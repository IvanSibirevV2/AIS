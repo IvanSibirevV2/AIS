{
 "cells": [
  {
   "cell_type": "markdown",
   "id": "c4dd8b30",
   "metadata": {},
   "source": [
    "http://www.kavserver.ru/library/windowsserver2012aminguide.shtml"
   ]
  },
  {
   "cell_type": "code",
   "execution_count": null,
   "id": "27824794",
   "metadata": {},
   "outputs": [],
   "source": []
  },
  {
   "cell_type": "markdown",
   "id": "a9d21c90",
   "metadata": {},
   "source": [
    "- 807 - \n",
    "\n",
    "- Android Studio https://developer.android.com/studio?hl=ru  ; Русскоязычный логин создает символы в пути и недают запусти эмульгатор андроида, не дает установить некоторые автоматически обновления. Без них и вовсе не работает Виртуальная машина Android Studio...\n",
    "- Не включена VT-x и VT-d аппаратная виртуализация в bios. http://virtmachine.ru/vt-d-i-vt-x-chto-eto-takoe-v-biose-i-zachem-nuzhno.html ; Без нее не работает Virtual Box, виртуальная машина Windows 10/7. Без нее работают только виртуальные машины старых операционных систем.\n",
    "- Notpad++ - толи установлен толи настроен с ошибками. Не дает сохранить горячую клавишу F6 на запуск программного кода через $(FULL_CURRENT_PATH).\n",
    "- Нет места на диске C"
   ]
  },
  {
   "cell_type": "markdown",
   "id": "cfc01599",
   "metadata": {},
   "source": [
    "- 808 -\n",
    "\n",
    "- нет места на диске C\n",
    "- Скрыт диск D\n",
    "- Стоят очень разные версии Virtual Box, настолько что в некоторых из них настройка колличества процессоров и локальная сеть не доступна... Что проблемно под Администрирование Информационных Систем..."
   ]
  },
  {
   "cell_type": "markdown",
   "id": "e0016005",
   "metadata": {},
   "source": []
  },
  {
   "cell_type": "markdown",
   "id": "19db7162",
   "metadata": {},
   "source": []
  },
  {
   "cell_type": "markdown",
   "id": "ce7f8eaf",
   "metadata": {},
   "source": []
  },
  {
   "cell_type": "markdown",
   "id": "756ee0f0",
   "metadata": {},
   "source": []
  },
  {
   "cell_type": "markdown",
   "id": "de4b7f08",
   "metadata": {},
   "source": []
  },
  {
   "cell_type": "markdown",
   "id": "d7f673be",
   "metadata": {},
   "source": []
  }
 ],
 "metadata": {
  "kernelspec": {
   "display_name": "Python 3 (ipykernel)",
   "language": "python",
   "name": "python3"
  },
  "language_info": {
   "codemirror_mode": {
    "name": "ipython",
    "version": 3
   },
   "file_extension": ".py",
   "mimetype": "text/x-python",
   "name": "python",
   "nbconvert_exporter": "python",
   "pygments_lexer": "ipython3",
   "version": "3.11.4"
  }
 },
 "nbformat": 4,
 "nbformat_minor": 5
}
